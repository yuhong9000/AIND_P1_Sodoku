{
  "nbformat": 4,
  "nbformat_minor": 0,
  "metadata": {
    "colab": {
      "name": "Copy of A1.ipynb",
      "version": "0.3.2",
      "provenance": [],
      "collapsed_sections": [],
      "include_colab_link": true
    },
    "kernelspec": {
      "name": "python3",
      "display_name": "Python 3"
    }
  },
  "cells": [
    {
      "cell_type": "markdown",
      "metadata": {
        "id": "view-in-github",
        "colab_type": "text"
      },
      "source": [
        "<a href=\"https://colab.research.google.com/github/yuhong9000/AIND_P1_Sodoku/blob/master/Copy_of_A1.ipynb\" target=\"_parent\"><img src=\"https://colab.research.google.com/assets/colab-badge.svg\" alt=\"Open In Colab\"/></a>"
      ]
    },
    {
      "metadata": {
        "id": "wTxING2wjdxv",
        "colab_type": "text"
      },
      "cell_type": "markdown",
      "source": [
        "# <font color=\" #347C98\">Assignment 1</font>\n",
        "\n"
      ]
    },
    {
      "metadata": {
        "id": "ALCcPWs20a5p",
        "colab_type": "text"
      },
      "cell_type": "markdown",
      "source": [
        "<font color=\" #347C98\">Each of the four assignments in this class are designed to help guide you through the steps of a full data science project. Assignments should be completed in your group of 4-5 students from within your section.<br> <br> \n",
        "\n",
        "The first steps in a data science project are to answer the following questions:<br> \n",
        "\n",
        "<br> What data science question are you asking?\n",
        "<br> What data will you use to answer this question?\n",
        "<br> What are the ethical considerations that must be made throughout this project?<br><br> \n",
        "\n",
        "These are the questions that you will answer in this first assignment. </font>"
      ]
    },
    {
      "metadata": {
        "id": "Ts2cPHZeHUM0",
        "colab_type": "text"
      },
      "cell_type": "markdown",
      "source": [
        "# <font color=\" #347C98\"> Instructions </font>\n"
      ]
    },
    {
      "metadata": {
        "id": "fz2pk97h0iw4",
        "colab_type": "text"
      },
      "cell_type": "markdown",
      "source": [
        "<font color=\" #347C98\"> Teams should troubleshoot these steps with the teaching staff well before the deadline during sections, office hours, on Piazza, or in lecture.</font>\n",
        "\n",
        "1.   <font color=\" #347C98\"> Each team must make a copy of this iPython notebook into their own Google Drive folder. It is probably best for teams to create, and share among team members, a Drive folder that will hold the team's assignments for the quarter. </font>\n",
        "2.   <font color=\" #347C98\"> Once the assignment is copied, teams will edit it as a team using the Colaboratory app and fill in their answers below. Make sure your answers are clearly indicated and easy to read.</font>\n",
        "3. <font color=\" #347C98\"> Upon completing the assignment, *one* team member must print the completed assignment to a PDF version and upload the PDF to Gradescope on behalf of the team. <b> Every team member must be indicated as a member of the team upon submission. <b> </font>"
      ]
    },
    {
      "metadata": {
        "id": "xHkAyZqSAjCw",
        "colab_type": "text"
      },
      "cell_type": "markdown",
      "source": [
        "# <font color=\" #347C98\"> Team Info </font>\n"
      ]
    },
    {
      "metadata": {
        "id": "cQ9nz1Zh0tR6",
        "colab_type": "text"
      },
      "cell_type": "markdown",
      "source": [
        "## <font color=\"#66B032\">Example</font>\n",
        "<font color=\"#66B032\">Team Members: Donald Trump, Kim Kardashian, Demi Lovato, Beyonce, Oprah Winfrey <br>\n",
        "Team Name: Flying Mongooses <br>\n",
        "Section Number: A01</font>"
      ]
    },
    {
      "metadata": {
        "id": "l_aQyXqt1Y6l",
        "colab_type": "text"
      },
      "cell_type": "markdown",
      "source": [
        "## Answer (double click here to edit)\n",
        "\n",
        "Team Members: Jiayun Wang;        Yu Huang; Yuqian Wang; Tiange Wan; Zhengyang Lin\n",
        "\n",
        "Team Name: Team name\n",
        "\n",
        "Section Number: A04"
      ]
    },
    {
      "metadata": {
        "id": "DdAsRqDp8y_I",
        "colab_type": "code",
        "colab": {}
      },
      "cell_type": "code",
      "source": [
        ""
      ],
      "execution_count": 0,
      "outputs": []
    },
    {
      "metadata": {
        "id": "WAzDcmxfBLc1",
        "colab_type": "text"
      },
      "cell_type": "markdown",
      "source": [
        "\n",
        "#  <font color=\"#347C98\">Question</font>\n"
      ]
    },
    {
      "metadata": {
        "id": "XNoeGGcpzsKr",
        "colab_type": "text"
      },
      "cell_type": "markdown",
      "source": [
        "<font color=\" #347C98\">\n",
        "Formulating a specific and answerable data science question can take time. Think about a topic (or a few topics!) your group is interested in. Then, brainstorm ideas and possible questions about the topic(s). Write lots of ideas down and hone your question down to one that you think can be answered using analytical approaches. A good data science question is (1) interesting, (2) specific, and (3) answerable using data and analytical approaches. Note that you _will_ have the opportunity to refine this question as the quarter progresses. <br><br>\n",
        "  \n",
        "If you're stuck, look back at examples from lecture to see the types of questions that data scientists ask and discuss with your TAs and IAs. However, a few examples here of the types of questions that could be asked are:<br><br>\n",
        "\n",
        "<i>Does participation in collegiate athletics increase graduation rates?<br>\n",
        "Have the sentiments of Presidential addresses become more negative over time?<br>\n",
        "  Are salaries highest near universities?<br><br></i>\n",
        "\n",
        "Clearly state the specific data science question you're interested in answering below. Also posit a speculative answer, i.e. hypothesis, to your question and provide justification how you came to this hypothesis.<br><br>\n",
        "\n",
        "<b>4 pts</b>  \n",
        "\n",
        "</font>"
      ]
    },
    {
      "metadata": {
        "id": "J0sFx0zbxjZP",
        "colab_type": "text"
      },
      "cell_type": "markdown",
      "source": [
        "##<font color=\"#66B032\">Example</font>\n",
        "<font color=\"#66B032\">\n",
        "Our data science question is: Is swimming a healthier exercise than running? <br>\n",
        "Our hypothesis is that swimming is a healthier exercise because it is well-known to be low-impact, forces better breath regulation, and is a full-body exercise.\n",
        "</font>"
      ]
    },
    {
      "metadata": {
        "id": "Ejaz1zFTxdTR",
        "colab_type": "text"
      },
      "cell_type": "markdown",
      "source": [
        "## Answer (double click here to edit)\n",
        "\n",
        "Our data science question is: Does larger number of App reviews represent higher or lower rating?\n",
        "\n",
        "Our hypothesis is that more reviews would represent lower rating because it is reasonable to assume that most people who are satisfied with an App would not waste their time leaving a review. By contrast, Apps with low rating usually have more reviews from people who complain about the apps and persuade others not to download."
      ]
    },
    {
      "metadata": {
        "id": "X-0nim6FBRr4",
        "colab_type": "text"
      },
      "cell_type": "markdown",
      "source": [
        "# <font color=\"#347C98\">Data</font>\n",
        "\n",
        "\n"
      ]
    },
    {
      "metadata": {
        "id": "ATcE3KaSJpW8",
        "colab_type": "text"
      },
      "cell_type": "markdown",
      "source": [
        "<font color=\"#347C98\">Identify a dataset that you could use to answer this question. It will be easiest if these data are in a CSV (or other tabular format); however, you can choose to work with a different data type. This will likely create more work for you in the future, but you'll also likely learn more! It's up to you! Data can be found for use in many places - a few of which are  Kaggle, Google's Public Data Explorer, data.world, and data.gov.<br> <br>\n",
        "  \n",
        "Your dataset must have at least 50 observations (rows) and at least one continuous variable (numeric) and one categorical variable.<br> <br>\n",
        "  \n",
        "You are not limited to finding data on these sources and are free to explore other websites and places for your dataset. You can work with data that are not publicly available but that you have access to (from research you're involved in, for example) as long as you have permission to use it in class. Additionally, you can collect your own data should you choose to do so.<br> <br>\n",
        "  \n",
        "Include the source / a link to the dataset in this section of your project  and explain a little bit about the data, including things like how many observations there are and what variables in the dataset are of interest to you for the purposes of answering your question of interest.<br><br>\n",
        "\n",
        "<b>4 pts</b>\n",
        "</font>"
      ]
    },
    {
      "metadata": {
        "id": "5MD8Lhew2CIO",
        "colab_type": "text"
      },
      "cell_type": "markdown",
      "source": [
        "## <font color=\"#66B032\">Example</font>\n",
        "\n",
        "<font color=\"#66B032\"> Our dataset has 120 years worth of data for the Olympic games. We found it on Kaggle here: https://www.kaggle.com/heesoo37/120-years-of-olympic-history-athletes-and-results. We downloaded the csv file from Kaggle and uploaded it to our drive folder to be viewed in Google Sheets here: https://docs.google.com/spreadsheets/d/1oMgIh22Mib1FNVYCT5pQmKOWzwsh-Xjb2IfXaUAXTvA/edit#gid=1554884236. We made sure the Google Sheet is publicly available for the graders to view. <br><br>\n",
        "  \n",
        "According to Kaggle, the dataset has about 271,000 observations. Each observation is a combination of an athlete's name and the particular event they participated in. Other variables include information about the athlete like sex, age, height, weight, the country they represent, which season, year, and location of the games the athlete was attending, as well as the event and what type of medal they won.<br><br>\n",
        "  \n",
        "We will probably not use all of the variables to answer our research question, but there are other questions we can answer like what the distribution of demographics are across sports. We might also find ways to reduce the size of the dataset to make it more managable to work with by filtering out certain years or only looking at observations pertaining to medals won.<br><br>\n",
        "  \n",
        "Lastly, we plan on cross-referencing the filtered data in this csv and adding a variable for year of death for the particular athlete. We will manually retrieve this information from Wikipedia, or we might try to scrape this information from Wikipedia. </font>\n",
        "\n"
      ]
    },
    {
      "metadata": {
        "id": "-qo0ttxx2Bfg",
        "colab_type": "text"
      },
      "cell_type": "markdown",
      "source": [
        "## Answer (double click here to edit)\n",
        "\n",
        "The dataset we found is Web scraped data of 10k Play Store app in Android market. The link on Kaggle is here : https://www.kaggle.com/lava18/google-play-store-apps/version/5. We downloaded the csv file from Kaggle and uploaded it to our drive folder to be viewed in Google Sheets here: https://docs.google.com/spreadsheets/d/1kPXQdlcyGV-mtGRVt0pWxkm-FEst9X1dMNkD4uO0mK8/edit#gid=677987709. We double checked that the Google Sheet could be viewed by anyone with the link.\n",
        "\n",
        "Based on information given on Kaggle, the dataset has about 10800 observations. Each observation is a combination of an App's name, its rating and number of reviews. Other variables include information about the App like category, size, installs, type(free or not), price, content rating, genres, last time it was updated, current version and what version of Android supports the App.\n",
        "\n",
        "We will largely not be using all variables to answer our data science question, but there are still something else we could answer. For example, how likely the size of the app impacts number of installations. We might also find ways to reduce the size of the dataset to make it more managable to work with by filtering out Apps which are last updated within one year or only look at free Apps.\n",
        "\n",
        "Lastly, we intend to make a better use of the dataset and add a variable for average time users spend on the specific App. We may obtain the corresponding information from Android Store."
      ]
    },
    {
      "metadata": {
        "id": "6Jgg7CXeBR8G",
        "colab_type": "text"
      },
      "cell_type": "markdown",
      "source": [
        "# <font color=\"#347C98\"> Ethical Considerations </font>\n"
      ]
    },
    {
      "metadata": {
        "id": "OZqAjPFMCDkx",
        "colab_type": "text"
      },
      "cell_type": "markdown",
      "source": [
        "<font color=\"#347C98\">\n",
        "Read about [Deon's data science ethics checklist](https://hub.packtpub.com/introducing-deon-a-tool-for-data-scientists-to-add-an-ethics-checklist/). Then, consider and write down what ethical considerations must be made when answering your specific data science question. Brainstorm and explain how you would address these considerations for each of the following categories in your specific project: Data Collection, Data Storage, Analysis, Modeling, Deployment. Feel free to write about additional ethical considerations you would make that aren't included on the checklist. <br><br>\n",
        "\n",
        "\n",
        "<b> 12 pts </b> </font>"
      ]
    },
    {
      "metadata": {
        "id": "X8fV2bzUCLmH",
        "colab_type": "text"
      },
      "cell_type": "markdown",
      "source": [
        "## <font color=\"#66B032\">Example</font>\n",
        "\n",
        "### <font color=\"#66B032\">Data Collection \n",
        "  \n",
        "We are not directly collecting the data, since they are available publicly on the web. Considering these are world-renowned athletes, they implicitly provide consent to make the Olympic data available to anyone. On the other hand, their deaths are also a sensitive subject, so we will make sure to remove athlete names before continuing.</font>\n",
        "### <font color=\"#66B032\">Data Storage\n",
        "The dataset is publicly available and when we update the dataset with death information, it will be stored within our Google Drive folder, where it is presumably safe, since Google Drive folders are only accessible to those explicitly granted access.\n",
        "</font>\n",
        "### <font color=\"#66B032\">Analysis\n",
        "All of our analysis visualizations will not have any PII. We also acknowledge the bias of this dataset toward only looking at Olympic athletes. We will be careful in generalizing our results to the typical person.\n",
        "</font>\n",
        "### <font color=\"#66B032\">Modeling\n",
        "We will likely use additional variables such as sex, age, country of origin, etc., in addition to comparing swimming vs. running. We will be careful not to let the results we find support discriminatory interpretations by drawing equal comparisons among the different groups.\n",
        "</font>\n",
        "### <font color=\"#66B032\">Deployment\n",
        "If our results have potential harmful or discrimatory implications, we will try to find different variables to model or exclude certain variables altogether. This would also help with concept drift, anyway.\n",
        "</font>\n",
        "\n",
        "### <font color=\"#66B032\">Other (optional)\n",
        "If we do some web scraping from wikipedia, we will make sure not to do it in an intensive way so as not to overburden their servers.\n",
        "</font>\n"
      ]
    },
    {
      "metadata": {
        "id": "F59QQccGCJ1I",
        "colab_type": "text"
      },
      "cell_type": "markdown",
      "source": [
        "## Answer (double click to edit)\n",
        "\n",
        "### Data Collection\n",
        "Due to the limitation of techniques and the size of this project, we use the data that is available to everyone from Kaggle rather than collecting by ourselves. Since those Apps are all available in Android Store and everyone with a mobile phone could download them, we could assume that App owners have agreed to release those data to the public.\n",
        "\n",
        "### Data Storage\n",
        "The dataset is available on a public website and even if we update the dataset with average user time, it is still stored under our Google Drive Folder. It is considered to be safe since we only share the link with our graders.\n",
        "\n",
        "### Analysis\n",
        "We will not be using any PII for our analysis visualization. We also acknowledge that the bias of our dataset since it contains only Android Apps. We would have further consideration when applying our conclusion to IOS Apps.\n",
        "\n",
        "### Modeling\n",
        "We could possibly use other variables such as size, installs and genres, rather than only considering reviews as the only factor that impacts rating. We will try our best to consider all other confounding factors that could affect our conclusion.\n",
        "\n",
        "### Deployment\n",
        "Once our final result generates potential negative influences, we will take attempt to find other variables to determine our model.\n",
        "\n",
        "### Other (optional)\n",
        "If we were doing the project on a public computer, we will make sure the database would not be accidently left somewhere in the computer, in order to prevent potentail ethical problems.\n"
      ]
    },
    {
      "metadata": {
        "id": "5bNahM9VEd8D",
        "colab_type": "code",
        "colab": {}
      },
      "cell_type": "code",
      "source": [
        ""
      ],
      "execution_count": 0,
      "outputs": []
    }
  ]
}